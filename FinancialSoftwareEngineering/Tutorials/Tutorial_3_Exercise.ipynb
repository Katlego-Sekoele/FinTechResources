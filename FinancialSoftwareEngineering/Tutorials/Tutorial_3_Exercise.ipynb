{
 "cells": [
  {
   "cell_type": "markdown",
   "metadata": {},
   "source": [
    "# Tutorial 3 exercise\n",
    "\n",
    "In this tutorial we'll go one example which combines everything you've learnt in the tutorial 1, 2 & 3."
   ]
  },
  {
   "cell_type": "markdown",
   "metadata": {},
   "source": [
    "In a similar vein to tutorial 2, you have to design a program to assist a bank to manage the accounts of customers. You will be able to re-use some of your code, but we will also be adding some new functionality. This exercise involves a larger code base than your previous tutorials and represents something closer to a user interacting system than the previous tutorial.\n",
    "\n",
    "The instructions are as follows\n",
    "\n",
    "1. Create a bank class with the following functionality\n",
    "    - The ability to create customers\n",
    "    - The ability to store customers\n",
    "    - The ability to edit customer accounts (withdrawls, deposits)\n",
    "2. Create an account class which is created using an owner name, an account number, an account type and an opening balance\n",
    "    - Like before, there can be subclasses of accounts\n",
    "    - The account class should be able to return the balance of a given account\n",
    "    - The account class should be able to make transactions, namely withdraw and deposit\n",
    "    - The account class should also store a transaction history. The history should contain the amount _before_ the withdrawl/deposit, the _size_ of the withdrawl/deposit and the amount _after_ withdrawl/deposit\n",
    "3. Create a transaction class\n",
    "    - The class should have two methods: withdraw and deposit, which both act on an account object\n",
    "4. Create an ATM class\n",
    "    - The ATM class should have two initial methods\n",
    "        - log-in, which takes an account number\n",
    "        - register, which creates an account\n",
    "    - Once successfully logged in or registered, the user has should be able to do four things\n",
    "        1. Create a new account\n",
    "        2. Make a withdrawl\n",
    "        3. Make a deposit\n",
    "        4. Get their balance across all their accounts\n",
    "5. Create a customer class\n",
    "      - Stores the customers accounts\n",
    "      - Appends and updates accounts\n",
    "6. Write abstract base class where you feel they are appropriate\n",
    "\n",
    "When the user interacts with an ATM, this should be by means of an input. Up to now we called methods by providing parameters ourselves. Now we'll introduce variable parameters using the <code>input</code> function. See below for an example:"
   ]
  },
  {
   "cell_type": "code",
   "execution_count": 15,
   "metadata": {},
   "outputs": [
    {
     "name": "stdout",
     "output_type": "stream",
     "text": [
      "What is you favourite colour? Blue, Green or Red? Blue\n",
      "You chose Blue\n"
     ]
    }
   ],
   "source": [
    "user_input = input(\"What is you favourite colour? Blue, Green or Red? \")\n",
    "\n",
    "if user_input == \"Blue\":\n",
    "    print(\"You chose Blue\")\n",
    "elif user_input == \"Green\":\n",
    "    print(\"You chose Green\")\n",
    "elif user_input == \"Red\":\n",
    "    print(\"You chose Red\")\n",
    "else:\n",
    "    print(\"You chose an incorrect option. Please try again\")"
   ]
  },
  {
   "cell_type": "markdown",
   "metadata": {},
   "source": [
    "Using <code>input</code>, we can give the user the option to provide parameters. You should prompt the user twice\n",
    "\n",
    "  - Whether they would like to log-in or register\n",
    "  - What they would like to do once they are registered (see point 4)\n",
    "\n",
    "Using these prompts your program will decide which methods to call. To run your script you will thus have a simple main script or main method which simply executes these prompts and then calls the respective classes and methods as they are needed.\n",
    "\n",
    "The last section is optional, but highly recommended. \n",
    "\n",
    "Move your project from a notebook to your local machine and structure it appropriately. You should have a main script which simply imports the functionality you require. Once this is done, write unit tests where appropriate and call these tests from a test script."
   ]
  },
  {
   "cell_type": "code",
   "execution_count": null,
   "metadata": {},
   "outputs": [],
   "source": []
  }
 ],
 "metadata": {
  "kernelspec": {
   "display_name": "Python 3",
   "language": "python",
   "name": "python3"
  },
  "language_info": {
   "codemirror_mode": {
    "name": "ipython",
    "version": 3
   },
   "file_extension": ".py",
   "mimetype": "text/x-python",
   "name": "python",
   "nbconvert_exporter": "python",
   "pygments_lexer": "ipython3",
   "version": "3.6.5"
  }
 },
 "nbformat": 4,
 "nbformat_minor": 2
}
