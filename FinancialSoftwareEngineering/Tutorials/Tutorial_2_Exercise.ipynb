{
 "cells": [
  {
   "cell_type": "markdown",
   "metadata": {},
   "source": [
    "# Tutorial 2 exercises\n",
    "\n",
    "In this tutorial we'll go one example which combines everything you've learnt in the tutorial 1 and 2."
   ]
  },
  {
   "cell_type": "markdown",
   "metadata": {},
   "source": [
    "You have to design  program to assist a bank employee to manage the accounts of customers. The instructions are as follows\n",
    "\n",
    "1. Create an account class which is created using an account number and an opening balance\n",
    "    - The account class should have three methods <code>withdraw</code>, <code>deposit</code> and a <code>__str__</code> which prints the account balance\n",
    "3. Create two subclasses of accounts, a cheque account and a savings account\n",
    "    - Each subclass should have a <code>__str__</code> method which prints appropriate message to let the user know the account type and the balance\n",
    "5. Create a customer class\n",
    "    - A customer requires a name and can hold a cheque and a savings account. Store these accounts in a dictionary where the key represents the type of account. Importantly, a customer is created without any accounts.\n",
    "    - A customer should be able to do three things (i) open a cheque account with a method <code>open_cheque</code> (ii) open a savings account with a method <code>open_savings</code> and (iii) print their balance with a method called <code>get_balance</code>\n",
    "    - To open an account, the customer needs to choose an account number and make an initial deposit. \n",
    "    - Once created, the account should be stored with all other accounts the customer holds in the dictionary \n",
    "    - <code>get_balance</code> should be one method which prints the balance of each individual account and the total balance of all accounts\n",
    "    - Lastly, the customer should have two additional methods called <code>make_withdrawl</code> and <code>make_deposit</code>\n",
    "    - These methods take as input (i) customer name (ii) the account type (iii) the account number (iv) the amount to be deposited/withdrawn\n",
    "    - Before you enable a deposit or withdrawl you should check that the account type and account number correspond\n",
    "    \n",
    "    \n",
    "*Hints*\n",
    "\n",
    "- You are able to create objects within another class: I can create a savings object inside of the customer class, for example. In other words, my customer methods can create accounts using the accounts class, i.e I can call Savings(\"1240590\", 500) inside of my customer class or any of it's methods. \n",
    "- Just like you can store integers, strings etc. in lists, tuples and dictionaries, you are also able to store other objects, even ones you've created yourself (like your accounts) in these structures too. I.e you can store an onject of type account in your customer's account dictionary\n",
    "- Use each customer's name as the variable name for each customer's object"
   ]
  },
  {
   "cell_type": "code",
   "execution_count": null,
   "metadata": {},
   "outputs": [],
   "source": []
  }
 ],
 "metadata": {
  "kernelspec": {
   "display_name": "Python 3",
   "language": "python",
   "name": "python3"
  },
  "language_info": {
   "codemirror_mode": {
    "name": "ipython",
    "version": 3
   },
   "file_extension": ".py",
   "mimetype": "text/x-python",
   "name": "python",
   "nbconvert_exporter": "python",
   "pygments_lexer": "ipython3",
   "version": "3.6.5"
  }
 },
 "nbformat": 4,
 "nbformat_minor": 2
}
