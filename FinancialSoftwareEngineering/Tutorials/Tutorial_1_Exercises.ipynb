{
 "cells": [
  {
   "cell_type": "markdown",
   "metadata": {},
   "source": [
    "# Tutorial 1 exercises\n",
    "\n",
    "\n",
    "In this tutorial we'll go over a few exercises related to the content of the first lecture and tutorial.  In particular, you will\n",
    "\n",
    "1. Work with different data types and data structures\n",
    "2. Implement conditional logic\n",
    "3. Write your own functions\n",
    "4. Use Numpy and Pandas to solve multidimensional problem\n",
    "\n",
    "\n",
    "## Data types and data structures\n",
    "\n",
    "1. Extract the character 'o' from the string \"Python\" using conventional and negative indexing"
   ]
  },
  {
   "cell_type": "code",
   "execution_count": 1,
   "metadata": {},
   "outputs": [],
   "source": [
    "my_string = \"Python\"\n",
    "\n",
    "#Answer"
   ]
  },
  {
   "cell_type": "markdown",
   "metadata": {},
   "source": [
    "2. Replace the string \"Python\" in the nested list with the string \"Jupyter\" instead"
   ]
  },
  {
   "cell_type": "code",
   "execution_count": 8,
   "metadata": {},
   "outputs": [],
   "source": [
    "my_list = [1, 2, [3, 4,'Jupyter']]\n",
    "\n",
    "#Answer"
   ]
  },
  {
   "cell_type": "markdown",
   "metadata": {},
   "source": [
    "3. Replace the string \"Python\" in the nested list with the string \"Jupyter\" instead"
   ]
  },
  {
   "cell_type": "code",
   "execution_count": null,
   "metadata": {},
   "outputs": [],
   "source": [
    "my_list = [1, 2, [3, 4, [5, 6, 'Jupyter']]]\n",
    "\n",
    "#Answer"
   ]
  },
  {
   "cell_type": "markdown",
   "metadata": {},
   "source": [
    "4. Arrange the following list in ascending order"
   ]
  },
  {
   "cell_type": "code",
   "execution_count": 12,
   "metadata": {},
   "outputs": [],
   "source": [
    "my_list = [5, 4, 7, 2, 6, 1, 3,]\n",
    "\n",
    "#Answer"
   ]
  },
  {
   "cell_type": "markdown",
   "metadata": {},
   "source": [
    "5. Extract the unique items from this list"
   ]
  },
  {
   "cell_type": "code",
   "execution_count": 25,
   "metadata": {},
   "outputs": [],
   "source": [
    "my_list = [2,3,4,5,2,3,1,9,9,8,4,3,4,5,1]"
   ]
  },
  {
   "cell_type": "markdown",
   "metadata": {},
   "source": [
    "6. Think of your own example for where a dictionary would be useful"
   ]
  },
  {
   "cell_type": "code",
   "execution_count": null,
   "metadata": {},
   "outputs": [],
   "source": [
    "#Answer"
   ]
  },
  {
   "cell_type": "markdown",
   "metadata": {},
   "source": [
    "7. Get \"Python\" from the following dictionary"
   ]
  },
  {
   "cell_type": "code",
   "execution_count": 34,
   "metadata": {},
   "outputs": [],
   "source": [
    "my_dict = {'key1':'Python'}\n",
    "\n",
    "#Answer"
   ]
  },
  {
   "cell_type": "markdown",
   "metadata": {},
   "source": [
    "8. Get \"Python\" from the following dictionary"
   ]
  },
  {
   "cell_type": "code",
   "execution_count": 35,
   "metadata": {},
   "outputs": [],
   "source": [
    "my_dict = {'key1':{'key2':'Python'}}\n",
    "\n",
    "#Answer"
   ]
  },
  {
   "cell_type": "markdown",
   "metadata": {},
   "source": [
    "9. Get \"Python\" from the following dictionary"
   ]
  },
  {
   "cell_type": "code",
   "execution_count": 36,
   "metadata": {},
   "outputs": [],
   "source": [
    "my_dict = {'key1':[1,2,{'key2':['Jupyter',{'Anaconda':[3,4,['Python']]}]}]}\n",
    "\n",
    "#Answer"
   ]
  },
  {
   "cell_type": "markdown",
   "metadata": {},
   "source": [
    "## Conditonal logic"
   ]
  },
  {
   "cell_type": "markdown",
   "metadata": {},
   "source": [
    "10. Print the integers from 1 to 50. For every multiple of three, print \"Snap\", for every multiple of five, print \"Crackle\", and for numbers which are multiples of both three and five print \"Pop\"."
   ]
  },
  {
   "cell_type": "code",
   "execution_count": null,
   "metadata": {},
   "outputs": [],
   "source": [
    "#Answer"
   ]
  },
  {
   "cell_type": "markdown",
   "metadata": {},
   "source": [
    "11. Go through the sentence, <code>my_sentence</code>, and print every word of which the length of that word is an odd number"
   ]
  },
  {
   "cell_type": "code",
   "execution_count": null,
   "metadata": {},
   "outputs": [],
   "source": [
    "my_sentence = \"This is the sentence I would like you to print out and use for question 11 in this tutorial\"\n",
    "\n",
    "#Answer"
   ]
  },
  {
   "cell_type": "markdown",
   "metadata": {},
   "source": [
    "## Functions\n",
    "\n",
    "12. Write a function called <code>talk</code> that prints \"Hello\" every time it is called"
   ]
  },
  {
   "cell_type": "code",
   "execution_count": null,
   "metadata": {},
   "outputs": [],
   "source": [
    "#Answer"
   ]
  },
  {
   "cell_type": "markdown",
   "metadata": {},
   "source": [
    "13. Write a function called <code>introduction</code> that takes a name as an input and prints the following\n",
    "    \"Hello, my name is [insert name here]\""
   ]
  },
  {
   "cell_type": "code",
   "execution_count": null,
   "metadata": {},
   "outputs": [],
   "source": [
    "#Answer"
   ]
  },
  {
   "cell_type": "markdown",
   "metadata": {},
   "source": [
    "14) Write a function that (i) takes two integers as input (ii) checks that the two inputs provided are indeed integers (prints out a message if not) (iii) returns the larger of the two integer and (iv) returns a string \"equal\" if the two numbers are equal"
   ]
  },
  {
   "cell_type": "code",
   "execution_count": null,
   "metadata": {},
   "outputs": [],
   "source": [
    "#Answer"
   ]
  },
  {
   "cell_type": "markdown",
   "metadata": {},
   "source": [
    "15. Write a function that takes a word and capitalizes the first and third character"
   ]
  },
  {
   "cell_type": "code",
   "execution_count": null,
   "metadata": {},
   "outputs": [],
   "source": [
    "#Answer"
   ]
  },
  {
   "cell_type": "markdown",
   "metadata": {},
   "source": [
    "16. Write a function that takes three integers as inputs and checks whether the first integer is in the range between the second and third integer. If the second integer is greater than or equal to the third integer, print an appropriate message"
   ]
  },
  {
   "cell_type": "code",
   "execution_count": 27,
   "metadata": {},
   "outputs": [],
   "source": [
    "def check_range(user_num, low_num, high_num):\n",
    "\n",
    "    #Answer\n",
    "    pass"
   ]
  },
  {
   "cell_type": "markdown",
   "metadata": {},
   "source": [
    "17. Write a function called \"Blackjack\" that takes 3 integers as an input. (i) If the sum is less than or equal to 21, return the sum. (ii) If the sum is greater than 21, but there is an 11 as one of the three integers, reduce the sum by 10 and then return the sum (iii) If the sum is greater than 21 - even after (ii) - return the string \"Bust\""
   ]
  },
  {
   "cell_type": "code",
   "execution_count": 26,
   "metadata": {},
   "outputs": [],
   "source": [
    "#Answer"
   ]
  },
  {
   "cell_type": "markdown",
   "metadata": {},
   "source": [
    "## Numpy and Pandas\n",
    "\n",
    "17. The list <code>heights</code> contains a collection of heights expressed in inches. Convert these to metres which are simply, inches multipled by 0.0254"
   ]
  },
  {
   "cell_type": "code",
   "execution_count": 33,
   "metadata": {},
   "outputs": [],
   "source": [
    "heights = [74, 74, 72, 72, 73, 69, 69, 71, 76, 71, 73, 73, 74, 74, 69, 70, 73, 75, 78, 79, \n",
    "           76, 74, 76, 72, 71, 75, 77, 74, 73, 74, 78, 73, 75, 73, 75, 75, 74, 69, 71, 74]\n",
    "\n",
    "#Answer"
   ]
  },
  {
   "cell_type": "markdown",
   "metadata": {},
   "source": [
    "18. Using the same data, print out all the heights below 1.78m"
   ]
  },
  {
   "cell_type": "code",
   "execution_count": null,
   "metadata": {},
   "outputs": [],
   "source": [
    "#Answer"
   ]
  },
  {
   "cell_type": "markdown",
   "metadata": {},
   "source": [
    "19. Convert the list to a 2D Numpy array"
   ]
  },
  {
   "cell_type": "code",
   "execution_count": null,
   "metadata": {},
   "outputs": [],
   "source": [
    "my_list = [[200, 74.4],\n",
    "            [175, 100.6],\n",
    "            [168, 92.2],\n",
    "            [190, 80.2]]\n",
    "\n",
    "#Answer"
   ]
  },
  {
   "cell_type": "markdown",
   "metadata": {},
   "source": [
    "20. Convert the lists to a dictionary, and then to a data frame"
   ]
  },
  {
   "cell_type": "code",
   "execution_count": 32,
   "metadata": {},
   "outputs": [],
   "source": [
    "names = ['United States', 'Australia', 'Russia', 'South Africa', 'Canada', 'Namibia']\n",
    "north_hemis =  [True, False, True, False, True, False]\n",
    "pop = [325.7, 24.1, 144.3, 55.9, 36.3, 2.5]\n",
    "\n",
    "#Answer"
   ]
  },
  {
   "cell_type": "markdown",
   "metadata": {},
   "source": [
    "21. Import the following dataset as a pandas dataframe directly from the web and print out some summary statistics: http://tutorials.iq.harvard.edu/R/Rgraphics/dataSets/landdata-states.csv"
   ]
  },
  {
   "cell_type": "code",
   "execution_count": 31,
   "metadata": {},
   "outputs": [],
   "source": [
    "# Answer"
   ]
  }
 ],
 "metadata": {
  "kernelspec": {
   "display_name": "Python 3",
   "language": "python",
   "name": "python3"
  },
  "language_info": {
   "codemirror_mode": {
    "name": "ipython",
    "version": 3
   },
   "file_extension": ".py",
   "mimetype": "text/x-python",
   "name": "python",
   "nbconvert_exporter": "python",
   "pygments_lexer": "ipython3",
   "version": "3.6.5"
  }
 },
 "nbformat": 4,
 "nbformat_minor": 2
}
