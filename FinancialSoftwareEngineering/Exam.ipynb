{
 "cells": [
  {
   "cell_type": "markdown",
   "metadata": {},
   "source": [
    "# Python question\n",
    "\n",
    "You are tasked with designing a logistics system to manage applications for building permits and the subsequent development of property by developers for a city council. The system is intended to be used by the city council to manage requests by developers to build houses and apartments. The city council would like to be able to accept or reject development plans by developers and keep track of all developers, properties built and available land. The programme has four components\n",
    "\n",
    "### Developers\n",
    "\n",
    "Developers have a name, an ID and hold a list of the properties it owns. Developers build properties subject to approval by the council.\n",
    "\n",
    "### Properties\n",
    "Properties are built by developers and built in suburbs. Properties have a size (square metres of land) and once built, belong to a developer.\n",
    "\n",
    "\n",
    "### Suburbs\n",
    "Suburbs are created by the council. They have a land size, a name and a suburb ID. Properties are built by developers in a suburb. Suburbs store a list of all properties in the specific suburb. Suburbs decrease in available land size with every new property built. Once no more land is available, properties can no longer be built.\n",
    "\n",
    "### City Council\n",
    "The council is responsible for managing the suburbs it creates. The council has a name and stores all suburbs and developers, both in dictionaries. Naturally, the council should be able to create suburbs and create developers. Importantly, the council checks how much land is available in a suburb when a developer would like to build. If enough land is available, the council allows the development; if not, the council rejects the application.\n",
    "\n",
    "### The City Council System\n",
    "The system represents the interface that developers interact with. It is able to log a developer in who wants to build, does all of the relevant checks, builds, updates, and prints messages where appropriate. Importantly, everything the system changes should be recorded in the relevant data structures.\n",
    "\n",
    "Marks will be awarded for functionality, structure, style and efficient use of code. Use of appropriate data structures, f strings and print statement formatting, correct naming conventions (PEP8) etc. is encouraged."
   ]
  },
  {
   "cell_type": "code",
   "execution_count": 1,
   "metadata": {},
   "outputs": [],
   "source": [
    "class Developer():    \n",
    "    \n",
    "    \"\"\"\n",
    "    The developer class holds a list of the properties it owns. It is also responsible for building property \n",
    "    once the council has approved the request. Developers have a name, an ID and hold a list of the properties it owns.\n",
    "\n",
    "    \"\"\"\n",
    "\n",
    "    def __init__():\n",
    "        pass\n",
    "\n",
    "class Property():\n",
    "    \"\"\"Simply records the size of the property and the developer to which the property belongs\"\"\"\n",
    "    \n",
    "    def __init__():\n",
    "        pass\n",
    "\n",
    "\n",
    "class Suburb():\n",
    "    \"\"\"\n",
    "    Represents the suburb and holds alls all properties in the suburb in a list. \n",
    "    Suburbs have a size, a name and a suburb ID. Suburbs have a method to decrease available land\n",
    "    once a building has been built.\"\"\"\n",
    "    \n",
    "    def __init__():\n",
    "        pass\n",
    "\n",
    "    def get_size():\n",
    "        pass\n",
    "    \n",
    "    def set_size():\n",
    "        pass\n",
    "\n",
    "class Council():\n",
    "    \"\"\"    \n",
    "    Represents the council which stores suburbs and developers. The suburb creates suburbs and developers \n",
    "    and also checks if land is available for development. The council has a name, a dictionary of suburbs,\n",
    "    and a dictionary of developers.\n",
    "    \"\"\"\n",
    "\n",
    "    def __init__():\n",
    "        pass\n",
    "\n",
    "    def create_suburb():\n",
    "        pass\n",
    "\n",
    "    def create_developer():\n",
    "        pass\n",
    "\n",
    "    def check_land_availability():\n",
    "        pass\n",
    "\n",
    "\n",
    "class CouncilSystem(Council):\n",
    "    \"\"\"    \n",
    "    Represents the system which interacts with all of the objects. It specifically, logs a developer in \n",
    "    who wants to build, does all the relevant checks, builds, updates and prints messages where appropriate.\n",
    "    \"\"\"\n",
    "    \n",
    "    def __init__():\n",
    "        pass\n",
    "\n",
    "    def interact():\n",
    "        pass"
   ]
  },
  {
   "cell_type": "markdown",
   "metadata": {},
   "source": [
    "Use the following code to test your code"
   ]
  },
  {
   "cell_type": "code",
   "execution_count": null,
   "metadata": {},
   "outputs": [],
   "source": [
    "#Create a council\n",
    "my_council = Council(\"CPT\")\n",
    "\n",
    "#Create a suburb\n",
    "my_council.create_suburb(\"Sea Point\", \"1000\")\n",
    "\n",
    "#Create another suburb\n",
    "my_council.create_suburb(\"Claremont\", \"5000\")\n",
    "\n",
    "#Create a developer\n",
    "my_council.create_developer(\"Dev1\")\n",
    "\n",
    "#Create another developer\n",
    "my_council.create_developer(\"Dev2\")\n",
    "\n",
    "print(my_council.suburbs)\n",
    "print(my_council.developers)\n",
    "\n",
    "print(my_council.suburbs[101].name)\n",
    "print(my_council.suburbs[101].size)"
   ]
  },
  {
   "cell_type": "markdown",
   "metadata": {},
   "source": [
    "In the following codeblock, show that your code is able build a new property. Specifically, show how:\n",
    "\n",
    "* A property is built\n",
    "* What happens when a developer tries to build a property that is too large\n",
    "* The available land in a suburb decreases\n",
    "* Approprite print messages"
   ]
  },
  {
   "cell_type": "code",
   "execution_count": null,
   "metadata": {},
   "outputs": [],
   "source": []
  }
 ],
 "metadata": {
  "kernelspec": {
   "display_name": "Python 3",
   "language": "python",
   "name": "python3"
  },
  "language_info": {
   "codemirror_mode": {
    "name": "ipython",
    "version": 3
   },
   "file_extension": ".py",
   "mimetype": "text/x-python",
   "name": "python",
   "nbconvert_exporter": "python",
   "pygments_lexer": "ipython3",
   "version": "3.6.5"
  }
 },
 "nbformat": 4,
 "nbformat_minor": 2
}
